{
 "cells": [
  {
   "cell_type": "markdown",
   "metadata": {},
   "source": [
    "Modèle Logistic Regression (avec réduction de dimension avant PCA ou SVD)"
   ]
  },
  {
   "cell_type": "code",
   "execution_count": 2,
   "metadata": {},
   "outputs": [
    {
     "name": "stdout",
     "output_type": "stream",
     "text": [
      "Baseline - Prédictions sauvegardées.\n",
      "PCA - Prédictions sauvegardées.\n",
      "SVD - Prédictions sauvegardées.\n"
     ]
    }
   ],
   "source": [
    "import pandas as pd\n",
    "import numpy as np\n",
    "from sklearn.preprocessing import StandardScaler\n",
    "from sklearn.decomposition import PCA, TruncatedSVD\n",
    "from sklearn.linear_model import LogisticRegression\n",
    "\n",
    "# 1⃣ Charger les datasets\n",
    "train_df = pd.read_csv(\"/Users/konstantinganz/Library/CloudStorage/OneDrive-Personnel/Documents/Konstantin/CS/S8 Hong Kong/Cours/Stat ML/Projet_1/kaggle_statml_housing_credit/data/home-credit-default-risk/application_train_final.csv\")\n",
    "test_df = pd.read_csv(\"/Users/konstantinganz/Library/CloudStorage/OneDrive-Personnel/Documents/Konstantin/CS/S8 Hong Kong/Cours/Stat ML/Projet_1/kaggle_statml_housing_credit/data/home-credit-default-risk/application_test_final.csv\")\n",
    "\n",
    "# 2⃣ Séparer features et cible\n",
    "X_train = train_df.drop(columns=[\"TARGET\", \"SK_ID_CURR\"])\n",
    "y_train = train_df[\"TARGET\"]\n",
    "X_test = test_df.drop(columns=[\"SK_ID_CURR\"])\n",
    "\n",
    "# 3⃣ Standardisation\n",
    "scaler = StandardScaler()\n",
    "X_train_scaled = scaler.fit_transform(X_train)\n",
    "X_test_scaled = scaler.transform(X_test)\n",
    "\n",
    "# 4⃣ PCA (réduction de dimension)\n",
    "pca = PCA(n_components=0.95)  # Garde 95% de la variance\n",
    "X_train_pca = pca.fit_transform(X_train_scaled)\n",
    "X_test_pca = pca.transform(X_test_scaled)\n",
    "\n",
    "# 5⃣ SVD (alternative pour sparse data)\n",
    "svd = TruncatedSVD(n_components=50)  # On réduit à 50 dimensions\n",
    "X_train_svd = svd.fit_transform(X_train_scaled)\n",
    "X_test_svd = svd.transform(X_test_scaled)\n",
    "\n",
    "# 6⃣ Entraînement Logistic Regression (Baseline, PCA, SVD)\n",
    "models = {\n",
    "    \"Baseline\": (X_train_scaled, X_test_scaled),\n",
    "    \"PCA\": (X_train_pca, X_test_pca),\n",
    "    \"SVD\": (X_train_svd, X_test_svd)\n",
    "}\n",
    "\n",
    "submissions = {}\n",
    "\n",
    "for name, (X_train_model, X_test_model) in models.items():\n",
    "    model = LogisticRegression(random_state=42, max_iter=1000)\n",
    "    model.fit(X_train_model, y_train)\n",
    "    \n",
    "    y_pred_proba = model.predict_proba(X_test_model)[:, 1]\n",
    "    \n",
    "    # Stocker les prédictions\n",
    "    submissions[name] = pd.DataFrame({\"SK_ID_CURR\": test_df[\"SK_ID_CURR\"], \"TARGET\": y_pred_proba})\n",
    "    submissions[name].to_csv(f\"/Users/konstantinganz/Library/CloudStorage/OneDrive-Personnel/Documents/Konstantin/CS/S8 Hong Kong/Cours/Stat ML/Projet_1/kaggle_statml_housing_credit/results/submission_logistic_regression_{name}.csv\", index=False)\n",
    "    \n",
    "    print(f\"{name} - Prédictions sauvegardées.\")"
   ]
  },
  {
   "cell_type": "markdown",
   "metadata": {},
   "source": [
    "Modèle Random Forest"
   ]
  },
  {
   "cell_type": "code",
   "execution_count": 1,
   "metadata": {},
   "outputs": [
    {
     "name": "stdout",
     "output_type": "stream",
     "text": [
      "✅ Random Forest - Prédictions sauvegardées.\n"
     ]
    }
   ],
   "source": [
    "import pandas as pd\n",
    "import numpy as np\n",
    "from sklearn.ensemble import RandomForestClassifier\n",
    "\n",
    "# Charger les datasets\n",
    "train_df = pd.read_csv(\"/Users/konstantinganz/Library/CloudStorage/OneDrive-Personnel/Documents/Konstantin/CS/S8 Hong Kong/Cours/Stat ML/Projet_1/kaggle_statml_housing_credit/data/home-credit-default-risk/application_train_final.csv\")\n",
    "test_df = pd.read_csv(\"/Users/konstantinganz/Library/CloudStorage/OneDrive-Personnel/Documents/Konstantin/CS/S8 Hong Kong/Cours/Stat ML/Projet_1/kaggle_statml_housing_credit/data/home-credit-default-risk/application_test_final.csv\")\n",
    "\n",
    "# Séparer features et cible\n",
    "X_train = train_df.drop(columns=[\"TARGET\", \"SK_ID_CURR\"])\n",
    "y_train = train_df[\"TARGET\"]\n",
    "X_test = test_df.drop(columns=[\"SK_ID_CURR\"])\n",
    "\n",
    "# Entraînement du modèle Random Forest\n",
    "rf_model = RandomForestClassifier(\n",
    "    n_estimators=200,  # Nombre d'arbres (à ajuster)\n",
    "    max_depth=10,  # Profondeur max (évite overfitting)\n",
    "    random_state=42,\n",
    "    n_jobs=-1,  # Utilise tous les CPU pour accélérer\n",
    "    class_weight=\"balanced\"  # Gère le déséquilibre des classes\n",
    ")\n",
    "\n",
    "rf_model.fit(X_train, y_train)\n",
    "\n",
    "# Prédictions sur application_test\n",
    "y_pred_proba = rf_model.predict_proba(X_test)[:, 1]\n",
    "\n",
    "#Génération du fichier de soumission\n",
    "submission_rf = pd.DataFrame({\"SK_ID_CURR\": test_df[\"SK_ID_CURR\"], \"TARGET\": y_pred_proba})\n",
    "submission_rf.to_csv(\"/Users/konstantinganz/Library/CloudStorage/OneDrive-Personnel/Documents/Konstantin/CS/S8 Hong Kong/Cours/Stat ML/Projet_1/kaggle_statml_housing_credit/results/submission_RandomForest.csv\", index=False)\n",
    "\n",
    "print(\"✅ Random Forest - Prédictions sauvegardées.\")\n"
   ]
  },
  {
   "cell_type": "markdown",
   "metadata": {},
   "source": [
    "Modèle XGBOOST"
   ]
  },
  {
   "cell_type": "code",
   "execution_count": 3,
   "metadata": {},
   "outputs": [
    {
     "name": "stderr",
     "output_type": "stream",
     "text": [
      "/Users/konstantinganz/Library/Python/3.9/lib/python/site-packages/xgboost/core.py:158: UserWarning: [18:32:51] WARNING: /Users/runner/work/xgboost/xgboost/src/learner.cc:740: \n",
      "Parameters: { \"use_label_encoder\" } are not used.\n",
      "\n",
      "  warnings.warn(smsg, UserWarning)\n"
     ]
    },
    {
     "name": "stdout",
     "output_type": "stream",
     "text": [
      "✅ XGBoost - Prédictions sauvegardées.\n"
     ]
    }
   ],
   "source": [
    "import pandas as pd\n",
    "import numpy as np\n",
    "import xgboost as xgb\n",
    "from sklearn.model_selection import StratifiedKFold\n",
    "from sklearn.metrics import roc_auc_score\n",
    "\n",
    "# 1️⃣ Charger les datasets\n",
    "train_df = pd.read_csv(\"/Users/konstantinganz/Library/CloudStorage/OneDrive-Personnel/Documents/Konstantin/CS/S8 Hong Kong/Cours/Stat ML/Projet_1/kaggle_statml_housing_credit/data/home-credit-default-risk/application_train_final.csv\")\n",
    "test_df = pd.read_csv(\"/Users/konstantinganz/Library/CloudStorage/OneDrive-Personnel/Documents/Konstantin/CS/S8 Hong Kong/Cours/Stat ML/Projet_1/kaggle_statml_housing_credit/data/home-credit-default-risk/application_test_final.csv\")\n",
    "\n",
    "# 2️⃣ Séparer features et cible\n",
    "X_train = train_df.drop(columns=[\"TARGET\", \"SK_ID_CURR\"])\n",
    "y_train = train_df[\"TARGET\"]\n",
    "X_test = test_df.drop(columns=[\"SK_ID_CURR\"])\n",
    "\n",
    "# 3️⃣ Configuration de XGBoost\n",
    "xgb_model = xgb.XGBClassifier(\n",
    "    n_estimators=500,  # Nombre d'arbres\n",
    "    learning_rate=0.05,  # Vitesse d'apprentissage\n",
    "    max_depth=6,  # Profondeur des arbres\n",
    "    subsample=0.8,  # Échantillonnage des données pour éviter l'overfitting\n",
    "    colsample_bytree=0.8,  # Échantillonnage des features pour chaque arbre\n",
    "    objective=\"binary:logistic\",  # Problème de classification binaire\n",
    "    eval_metric=\"auc\",  # Optimisation du ROC-AUC\n",
    "    use_label_encoder=False,\n",
    "    random_state=42,\n",
    "    n_jobs=-1  # Utilise tous les CPU\n",
    ")\n",
    "\n",
    "# 4️⃣ Entraînement du modèle\n",
    "xgb_model.fit(X_train, y_train)\n",
    "\n",
    "# 5️⃣ Prédictions sur application_test\n",
    "y_pred_proba = xgb_model.predict_proba(X_test)[:, 1]\n",
    "\n",
    "# 6️⃣ Génération du fichier de soumission\n",
    "submission_xgb = pd.DataFrame({\"SK_ID_CURR\": test_df[\"SK_ID_CURR\"], \"TARGET\": y_pred_proba})\n",
    "submission_xgb.to_csv(\"/Users/konstantinganz/Library/CloudStorage/OneDrive-Personnel/Documents/Konstantin/CS/S8 Hong Kong/Cours/Stat ML/Projet_1/kaggle_statml_housing_credit/results/submission_XGBoost.csv\", index=False)\n",
    "\n",
    "print(\"✅ XGBoost - Prédictions sauvegardées.\")\n"
   ]
  },
  {
   "cell_type": "markdown",
   "metadata": {},
   "source": [
    "Modèle FNN"
   ]
  },
  {
   "cell_type": "code",
   "execution_count": 5,
   "metadata": {},
   "outputs": [],
   "source": [
    "import torch\n",
    "import torch.nn as nn\n",
    "import torch.optim as optim\n",
    "import pandas as pd\n",
    "import numpy as np\n",
    "from sklearn.preprocessing import StandardScaler\n",
    "from torch.utils.data import DataLoader, TensorDataset\n",
    "\n",
    "# 1️⃣ Charger les datasets\n",
    "train_df = pd.read_csv(\"/Users/konstantinganz/Library/CloudStorage/OneDrive-Personnel/Documents/Konstantin/CS/S8 Hong Kong/Cours/Stat ML/Projet_1/kaggle_statml_housing_credit/data/home-credit-default-risk/application_train_final.csv\")\n",
    "test_df = pd.read_csv(\"/Users/konstantinganz/Library/CloudStorage/OneDrive-Personnel/Documents/Konstantin/CS/S8 Hong Kong/Cours/Stat ML/Projet_1/kaggle_statml_housing_credit/data/home-credit-default-risk/application_test_final.csv\")\n",
    "\n",
    "# 2️⃣ Séparer features et labels\n",
    "X_train = train_df.drop(columns=[\"TARGET\", \"SK_ID_CURR\"])\n",
    "y_train = train_df[\"TARGET\"].values\n",
    "X_test = test_df.drop(columns=[\"SK_ID_CURR\"])\n",
    "\n",
    "# 3️⃣ Normalisation (important pour les réseaux de neurones)\n",
    "scaler = StandardScaler()\n",
    "X_train = scaler.fit_transform(X_train)\n",
    "X_test = scaler.transform(X_test)\n",
    "\n",
    "# 4️⃣ Conversion en Tensors PyTorch\n",
    "X_train_tensor = torch.tensor(X_train, dtype=torch.float32)\n",
    "y_train_tensor = torch.tensor(y_train, dtype=torch.float32).view(-1, 1)  # Reshape pour BCE Loss\n",
    "X_test_tensor = torch.tensor(X_test, dtype=torch.float32)\n",
    "\n",
    "# 5️⃣ Création du DataLoader\n",
    "train_dataset = TensorDataset(X_train_tensor, y_train_tensor)\n",
    "train_loader = DataLoader(train_dataset, batch_size=512, shuffle=True)\n",
    "\n",
    "# 6️⃣ Définition du MLP (FNN)\n",
    "class MLP(nn.Module):\n",
    "    def __init__(self, input_dim):\n",
    "        super(MLP, self).__init__()\n",
    "        self.model = nn.Sequential(\n",
    "            nn.Linear(input_dim, 128),\n",
    "            nn.ReLU(),\n",
    "            nn.Dropout(0.3),  # Evite l’overfitting\n",
    "            \n",
    "            nn.Linear(128, 64),\n",
    "            nn.ReLU(),\n",
    "            nn.Dropout(0.3),\n",
    "            \n",
    "            nn.Linear(64, 32),\n",
    "            nn.ReLU(),\n",
    "            \n",
    "            nn.Linear(32, 1),\n",
    "            nn.Sigmoid()  # Probabilité entre 0 et 1\n",
    "        )\n",
    "\n",
    "    def forward(self, x):\n",
    "        return self.model(x)\n",
    "\n",
    "# 7️⃣ Initialisation du modèle\n",
    "input_dim = X_train.shape[1]\n",
    "model = MLP(input_dim)\n",
    "\n",
    "# 8️⃣ Définition de la Loss et de l’Optimizer\n",
    "criterion = nn.BCELoss()  # Binary Cross Entropy Loss\n",
    "optimizer = optim.Adam(model.parameters(), lr=0.001)\n",
    "\n",
    "# 9️⃣ Entraînement du modèle\n",
    "num_epochs = 20\n",
    "device = torch.device(\"cuda\" if torch.cuda.is_available() else \"cpu\")\n",
    "model.to(device)\n",
    "\n",
    "for epoch in range(num_epochs):\n",
    "    model.train()\n",
    "    running_loss = 0.0\n",
    "\n",
    "    for batch_X, batch_y in train_loader:\n",
    "        batch_X, batch_y = batch_X.to(device), batch_y.to(device)\n",
    "\n",
    "        optimizer.zero_grad()\n",
    "        outputs = model(batch_X)\n",
    "        loss = criterion(outputs, batch_y)\n",
    "        loss.backward()\n",
    "        optimizer.step()\n",
    "\n",
    "        running_loss += loss.item()\n",
    "    \n",
    "    print(f\"Epoch [{epoch+1}/{num_epochs}], Loss: {running_loss/len(train_loader):.4f}\")\n",
    "\n",
    "# 🔟 Prédictions sur les données de test\n",
    "model.eval()\n",
    "with torch.no_grad():\n",
    "    y_pred_proba = model(X_test_tensor.to(device)).cpu().numpy()\n",
    "\n",
    "# 🔥 Sauvegarde du fichier de soumission\n",
    "submission_nn = pd.DataFrame({\"SK_ID_CURR\": test_df[\"SK_ID_CURR\"], \"TARGET\": y_pred_proba.flatten()})\n",
    "submission_nn.to_csv(\"/Users/konstantinganz/Library/CloudStorage/OneDrive-Personnel/Documents/Konstantin/CS/S8 Hong Kong/Cours/Stat ML/Projet_1/kaggle_statml_housing_credit/results/submission_NN.csv\", index=False)\n",
    "\n",
    "print(\"✅ Réseau de Neurones - Prédictions sauvegardées !\")\n"
   ]
  },
  {
   "cell_type": "markdown",
   "metadata": {},
   "source": [
    "Graphe Score Kaggle"
   ]
  },
  {
   "cell_type": "code",
   "execution_count": 4,
   "metadata": {},
   "outputs": [
    {
     "data": {
      "image/png": "[encoded data removed]",
      "text/plain": [
       "<Figure size 1000x600 with 1 Axes>"
      ]
     },
     "metadata": {},
     "output_type": "display_data"
    }
   ],
   "source": [
    "import matplotlib.pyplot as plt\n",
    "import numpy as np\n",
    "\n",
    "# Noms des modèles\n",
    "models = [\n",
    "    \"Logistic Regression Baseline\",\n",
    "    \"Logistic Regression SVD\",\n",
    "    \"XGBoost\",\n",
    "    \"Logistic Regression PCA\",\n",
    "    \"Random Forest\"\n",
    "]\n",
    "\n",
    "# Scores privés et publics\n",
    "private_scores = [0.73431, 0.71490, 0.75635, 0.71732, 0.72554]\n",
    "public_scores = [0.74713, 0.72734, 0.75839, 0.73188, 0.73012]\n",
    "\n",
    "# Position des barres\n",
    "x = np.arange(len(models))\n",
    "width = 0.3  # Largeur des barres\n",
    "\n",
    "# Création du graphique\n",
    "fig, ax = plt.subplots(figsize=(12, 6))\n",
    "bars1 = ax.bar(x - width/2, private_scores, width, label=\"Score privé\", color=\"blue\", alpha=0.7)\n",
    "bars2 = ax.bar(x + width/2, public_scores, width, label=\"Score public\", color=\"orange\", alpha=0.7)\n",
    "\n",
    "# Ajouter les scores au-dessus des barres\n",
    "for bar in bars1:\n",
    "    ax.text(bar.get_x() + bar.get_width()/2, bar.get_height(), f'{bar.get_height():.4f}', \n",
    "            ha='center', va='bottom', fontsize=10, fontweight='bold', color='blue')\n",
    "\n",
    "for bar in bars2:\n",
    "    ax.text(bar.get_x() + bar.get_width()/2, bar.get_height(), f'{bar.get_height():.4f}', \n",
    "            ha='center', va='bottom', fontsize=10, fontweight='bold', color='orange')\n",
    "\n",
    "\n",
    "# Ajout des labels\n",
    "ax.set_xlabel(\"Modèles\")\n",
    "ax.set_ylabel(\"Score AUC ROC\")\n",
    "ax.set_title(\"Scores Kaggle des modèles\")\n",
    "ax.set_xticks(x)\n",
    "ax.set_xticklabels(models, rotation=15)\n",
    "ax.legend()\n",
    "\n",
    "# Affichage du graphique\n",
    "plt.show()\n"
   ]
  },
  {
   "cell_type": "code",
   "execution_count": null,
   "metadata": {},
   "outputs": [],
   "source": []
  }
 ],
 "metadata": {
  "kernelspec": {
   "display_name": "Python 3",
   "language": "python",
   "name": "python3"
  },
  "language_info": {
   "codemirror_mode": {
    "name": "ipython",
    "version": 3
   },
   "file_extension": ".py",
   "mimetype": "text/x-python",
   "name": "python",
   "nbconvert_exporter": "python",
   "pygments_lexer": "ipython3",
   "version": "3.9.6"
  }
 },
 "nbformat": 4,
 "nbformat_minor": 2
}
